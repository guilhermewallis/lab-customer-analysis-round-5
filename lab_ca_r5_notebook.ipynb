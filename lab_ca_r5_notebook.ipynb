{
 "cells": [
  {
   "cell_type": "code",
   "execution_count": 75,
   "id": "f44e58e3",
   "metadata": {},
   "outputs": [],
   "source": [
    "import numpy as np\n",
    "import pandas as pd\n",
    "\n",
    "import matplotlib as mpl\n",
    "import matplotlib.pyplot as plt\n",
    "\n",
    "import seaborn as sns\n",
    "import seaborn.objects as so\n",
    "\n",
    "from sklearn.linear_model import LinearRegression\n",
    "from sklearn.model_selection import train_test_split\n",
    "from sklearn.preprocessing import OneHotEncoder, Normalizer, StandardScaler, MinMaxScaler\n",
    "from sklearn.metrics import mean_squared_error, r2_score, mean_absolute_error\n",
    "\n",
    "df = pd.read_csv('files_for_lab/csv_files/marketing_customer_analysis.csv')\n",
    "df.columns = df.columns.str.lower().str.replace(' ', '_')"
   ]
  },
  {
   "cell_type": "code",
   "execution_count": 162,
   "id": "bdb8c261",
   "metadata": {},
   "outputs": [],
   "source": [
    "#X-y split.\n",
    "x = df.drop([\"customer\", \"total_claim_amount\", 'effective_to_date'], axis=1)\n",
    "y = df[\"total_claim_amount\"]"
   ]
  },
  {
   "cell_type": "code",
   "execution_count": 163,
   "id": "d32e39a8",
   "metadata": {},
   "outputs": [],
   "source": [
    "#Normalize (numerical).\n",
    "x_num = x.select_dtypes(np.number)\n",
    "\n",
    "scaler = StandardScaler()\n",
    "scaler.fit(x_num)\n",
    "x_num_scaled = scaler.transform(x_num)\n",
    "\n",
    "x_num_scaled = pd.DataFrame(x_num_scaled, columns = x_num.columns)"
   ]
  }
 ],
 "metadata": {
  "kernelspec": {
   "display_name": "Python 3 (ipykernel)",
   "language": "python",
   "name": "python3"
  },
  "language_info": {
   "codemirror_mode": {
    "name": "ipython",
    "version": 3
   },
   "file_extension": ".py",
   "mimetype": "text/x-python",
   "name": "python",
   "nbconvert_exporter": "python",
   "pygments_lexer": "ipython3",
   "version": "3.10.9"
  }
 },
 "nbformat": 4,
 "nbformat_minor": 5
}
