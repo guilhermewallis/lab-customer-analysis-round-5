{
 "cells": [
  {
   "cell_type": "code",
   "execution_count": 75,
   "id": "f44e58e3",
   "metadata": {},
   "outputs": [],
   "source": [
    "import numpy as np\n",
    "import pandas as pd\n",
    "\n",
    "import matplotlib as mpl\n",
    "import matplotlib.pyplot as plt\n",
    "\n",
    "import seaborn as sns\n",
    "import seaborn.objects as so\n",
    "\n",
    "from sklearn.linear_model import LinearRegression\n",
    "from sklearn.model_selection import train_test_split\n",
    "from sklearn.preprocessing import OneHotEncoder, Normalizer, StandardScaler, MinMaxScaler\n",
    "from sklearn.metrics import mean_squared_error, r2_score, mean_absolute_error\n",
    "\n",
    "df = pd.read_csv('files_for_lab/csv_files/marketing_customer_analysis.csv')"
   ]
  },
  {
   "cell_type": "code",
   "execution_count": 173,
   "id": "de0de1e5",
   "metadata": {},
   "outputs": [
    {
     "name": "stdout",
     "output_type": "stream",
     "text": [
      "<class 'pandas.core.frame.DataFrame'>\n",
      "RangeIndex: 9134 entries, 0 to 9133\n",
      "Data columns (total 24 columns):\n",
      " #   Column                         Non-Null Count  Dtype  \n",
      "---  ------                         --------------  -----  \n",
      " 0   Customer                       9134 non-null   object \n",
      " 1   State                          9134 non-null   object \n",
      " 2   Customer Lifetime Value        9134 non-null   float64\n",
      " 3   Response                       9134 non-null   object \n",
      " 4   Coverage                       9134 non-null   object \n",
      " 5   Education                      9134 non-null   object \n",
      " 6   Effective To Date              9134 non-null   object \n",
      " 7   EmploymentStatus               9134 non-null   object \n",
      " 8   Gender                         9134 non-null   object \n",
      " 9   Income                         9134 non-null   int64  \n",
      " 10  Location Code                  9134 non-null   object \n",
      " 11  Marital Status                 9134 non-null   object \n",
      " 12  Monthly Premium Auto           9134 non-null   int64  \n",
      " 13  Months Since Last Claim        9134 non-null   int64  \n",
      " 14  Months Since Policy Inception  9134 non-null   int64  \n",
      " 15  Number of Open Complaints      9134 non-null   int64  \n",
      " 16  Number of Policies             9134 non-null   int64  \n",
      " 17  Policy Type                    9134 non-null   object \n",
      " 18  Policy                         9134 non-null   object \n",
      " 19  Renew Offer Type               9134 non-null   object \n",
      " 20  Sales Channel                  9134 non-null   object \n",
      " 21  Total Claim Amount             9134 non-null   float64\n",
      " 22  Vehicle Class                  9134 non-null   object \n",
      " 23  Vehicle Size                   9134 non-null   object \n",
      "dtypes: float64(2), int64(6), object(16)\n",
      "memory usage: 1.7+ MB\n"
     ]
    }
   ],
   "source": [
    "#Show DataFrame info.\n",
    "df.info()"
   ]
  },
  {
   "cell_type": "code",
   "execution_count": 174,
   "id": "451d2acb",
   "metadata": {},
   "outputs": [
    {
     "data": {
      "text/html": [
       "<div>\n",
       "<style scoped>\n",
       "    .dataframe tbody tr th:only-of-type {\n",
       "        vertical-align: middle;\n",
       "    }\n",
       "\n",
       "    .dataframe tbody tr th {\n",
       "        vertical-align: top;\n",
       "    }\n",
       "\n",
       "    .dataframe thead th {\n",
       "        text-align: right;\n",
       "    }\n",
       "</style>\n",
       "<table border=\"1\" class=\"dataframe\">\n",
       "  <thead>\n",
       "    <tr style=\"text-align: right;\">\n",
       "      <th></th>\n",
       "      <th>Customer Lifetime Value</th>\n",
       "      <th>Income</th>\n",
       "      <th>Monthly Premium Auto</th>\n",
       "      <th>Months Since Last Claim</th>\n",
       "      <th>Months Since Policy Inception</th>\n",
       "      <th>Number of Open Complaints</th>\n",
       "      <th>Number of Policies</th>\n",
       "      <th>Total Claim Amount</th>\n",
       "    </tr>\n",
       "  </thead>\n",
       "  <tbody>\n",
       "    <tr>\n",
       "      <th>count</th>\n",
       "      <td>9134.000000</td>\n",
       "      <td>9134.000000</td>\n",
       "      <td>9134.000000</td>\n",
       "      <td>9134.000000</td>\n",
       "      <td>9134.000000</td>\n",
       "      <td>9134.000000</td>\n",
       "      <td>9134.000000</td>\n",
       "      <td>9134.000000</td>\n",
       "    </tr>\n",
       "    <tr>\n",
       "      <th>mean</th>\n",
       "      <td>8004.940475</td>\n",
       "      <td>37657.380009</td>\n",
       "      <td>93.219291</td>\n",
       "      <td>15.097000</td>\n",
       "      <td>48.064594</td>\n",
       "      <td>0.384388</td>\n",
       "      <td>2.966170</td>\n",
       "      <td>434.088794</td>\n",
       "    </tr>\n",
       "    <tr>\n",
       "      <th>std</th>\n",
       "      <td>6870.967608</td>\n",
       "      <td>30379.904734</td>\n",
       "      <td>34.407967</td>\n",
       "      <td>10.073257</td>\n",
       "      <td>27.905991</td>\n",
       "      <td>0.910384</td>\n",
       "      <td>2.390182</td>\n",
       "      <td>290.500092</td>\n",
       "    </tr>\n",
       "    <tr>\n",
       "      <th>min</th>\n",
       "      <td>1898.007675</td>\n",
       "      <td>0.000000</td>\n",
       "      <td>61.000000</td>\n",
       "      <td>0.000000</td>\n",
       "      <td>0.000000</td>\n",
       "      <td>0.000000</td>\n",
       "      <td>1.000000</td>\n",
       "      <td>0.099007</td>\n",
       "    </tr>\n",
       "    <tr>\n",
       "      <th>25%</th>\n",
       "      <td>3994.251794</td>\n",
       "      <td>0.000000</td>\n",
       "      <td>68.000000</td>\n",
       "      <td>6.000000</td>\n",
       "      <td>24.000000</td>\n",
       "      <td>0.000000</td>\n",
       "      <td>1.000000</td>\n",
       "      <td>272.258244</td>\n",
       "    </tr>\n",
       "    <tr>\n",
       "      <th>50%</th>\n",
       "      <td>5780.182197</td>\n",
       "      <td>33889.500000</td>\n",
       "      <td>83.000000</td>\n",
       "      <td>14.000000</td>\n",
       "      <td>48.000000</td>\n",
       "      <td>0.000000</td>\n",
       "      <td>2.000000</td>\n",
       "      <td>383.945434</td>\n",
       "    </tr>\n",
       "    <tr>\n",
       "      <th>75%</th>\n",
       "      <td>8962.167041</td>\n",
       "      <td>62320.000000</td>\n",
       "      <td>109.000000</td>\n",
       "      <td>23.000000</td>\n",
       "      <td>71.000000</td>\n",
       "      <td>0.000000</td>\n",
       "      <td>4.000000</td>\n",
       "      <td>547.514839</td>\n",
       "    </tr>\n",
       "    <tr>\n",
       "      <th>max</th>\n",
       "      <td>83325.381190</td>\n",
       "      <td>99981.000000</td>\n",
       "      <td>298.000000</td>\n",
       "      <td>35.000000</td>\n",
       "      <td>99.000000</td>\n",
       "      <td>5.000000</td>\n",
       "      <td>9.000000</td>\n",
       "      <td>2893.239678</td>\n",
       "    </tr>\n",
       "  </tbody>\n",
       "</table>\n",
       "</div>"
      ],
      "text/plain": [
       "       Customer Lifetime Value        Income  Monthly Premium Auto  \\\n",
       "count              9134.000000   9134.000000           9134.000000   \n",
       "mean               8004.940475  37657.380009             93.219291   \n",
       "std                6870.967608  30379.904734             34.407967   \n",
       "min                1898.007675      0.000000             61.000000   \n",
       "25%                3994.251794      0.000000             68.000000   \n",
       "50%                5780.182197  33889.500000             83.000000   \n",
       "75%                8962.167041  62320.000000            109.000000   \n",
       "max               83325.381190  99981.000000            298.000000   \n",
       "\n",
       "       Months Since Last Claim  Months Since Policy Inception  \\\n",
       "count              9134.000000                    9134.000000   \n",
       "mean                 15.097000                      48.064594   \n",
       "std                  10.073257                      27.905991   \n",
       "min                   0.000000                       0.000000   \n",
       "25%                   6.000000                      24.000000   \n",
       "50%                  14.000000                      48.000000   \n",
       "75%                  23.000000                      71.000000   \n",
       "max                  35.000000                      99.000000   \n",
       "\n",
       "       Number of Open Complaints  Number of Policies  Total Claim Amount  \n",
       "count                9134.000000         9134.000000         9134.000000  \n",
       "mean                    0.384388            2.966170          434.088794  \n",
       "std                     0.910384            2.390182          290.500092  \n",
       "min                     0.000000            1.000000            0.099007  \n",
       "25%                     0.000000            1.000000          272.258244  \n",
       "50%                     0.000000            2.000000          383.945434  \n",
       "75%                     0.000000            4.000000          547.514839  \n",
       "max                     5.000000            9.000000         2893.239678  "
      ]
     },
     "execution_count": 174,
     "metadata": {},
     "output_type": "execute_result"
    }
   ],
   "source": [
    "#Describe DataFrame.\n",
    "df.describe()"
   ]
  },
  {
   "cell_type": "code",
   "execution_count": 176,
   "id": "b421184d",
   "metadata": {},
   "outputs": [
    {
     "data": {
      "text/plain": [
       "Index(['customer', 'state', 'customer_lifetime_value', 'response', 'coverage',\n",
       "       'education', 'effective_to_date', 'employmentstatus', 'gender',\n",
       "       'income', 'location_code', 'marital_status', 'monthly_premium_auto',\n",
       "       'months_since_last_claim', 'months_since_policy_inception',\n",
       "       'number_of_open_complaints', 'number_of_policies', 'policy_type',\n",
       "       'policy', 'renew_offer_type', 'sales_channel', 'total_claim_amount',\n",
       "       'vehicle_class', 'vehicle_size'],\n",
       "      dtype='object')"
      ]
     },
     "execution_count": 176,
     "metadata": {},
     "output_type": "execute_result"
    }
   ],
   "source": [
    "df.columns = df.columns.str.lower().str.replace(' ', '_')\n",
    "df.columns"
   ]
  },
  {
   "cell_type": "code",
   "execution_count": null,
   "id": "e0d9d270",
   "metadata": {},
   "outputs": [],
   "source": [
    "#Show a plot of the total number of responses.\n",
    "\n",
    "sns.set_style(\"white\")\n",
    "\n",
    "sns.countplot(x='Response', data=df)\n",
    "\n",
    "plt.show()"
   ]
  },
  {
   "cell_type": "code",
   "execution_count": null,
   "id": "12130696",
   "metadata": {},
   "outputs": [],
   "source": [
    "#Show a plot of the response rate by the sales channel.\n",
    "\n",
    "sns.set_style(\"whitegrid\")\n",
    "\n",
    "sns.countplot(x='Sales Channel', palette=\"pastel\", color=\"b\", alpha = .8, data=df)\n",
    "sns.countplot(data=df, x='Sales Channel', hue='Response', palette=\"rocket\", alpha = .9)\n",
    "sns.despine(left=True, bottom=True)\n",
    "\n",
    "plt.show()"
   ]
  },
  {
   "cell_type": "code",
   "execution_count": null,
   "id": "c05ce8e9",
   "metadata": {},
   "outputs": [],
   "source": [
    "#Show a plot of the response rate by the total claim amount.\n",
    "\n",
    "sns.set_style(\"darkgrid\")\n",
    "\n",
    "sns.barplot(data=df, x='Response', y='Total Claim Amount', palette=\"dark\", alpha = .8)\n",
    "\n",
    "plt.show()"
   ]
  },
  {
   "cell_type": "code",
   "execution_count": null,
   "id": "e2600d8a",
   "metadata": {},
   "outputs": [],
   "source": [
    "#Show a plot of the response rate by income.\n",
    "\n",
    "sns.set_theme(style=\"whitegrid\")\n",
    "\n",
    "sns.barplot(y='Response', x='Income', palette = 'rocket', data=df)\n",
    "sns.despine(left=True, bottom=True)\n",
    "\n",
    "plt.show()"
   ]
  },
  {
   "cell_type": "code",
   "execution_count": null,
   "id": "49a3d211",
   "metadata": {},
   "outputs": [],
   "source": [
    "#Check the data types of the columns.\n",
    "df.dtypes"
   ]
  },
  {
   "cell_type": "code",
   "execution_count": null,
   "id": "ea18a790",
   "metadata": {},
   "outputs": [],
   "source": [
    "#Get the numeric data into dataframe called numerical\n",
    "df_num = df.select_dtypes(np.number)\n",
    "df_num"
   ]
  },
  {
   "cell_type": "code",
   "execution_count": null,
   "id": "cdaf9da9",
   "metadata": {},
   "outputs": [],
   "source": [
    "#and categorical columns in a dataframe called categoricals\n",
    "df_cat = df.select_dtypes(object)\n",
    "df_cat"
   ]
  },
  {
   "cell_type": "code",
   "execution_count": null,
   "id": "bc066a6a",
   "metadata": {},
   "outputs": [],
   "source": [
    "#Use seaborn library to construct distribution plots for the numerical variables\n",
    "sns.set_style = 'white'\n",
    "for col in df_num.columns:\n",
    "  print(col)\n",
    "  sns.histplot(df_num[col], kde=True) #replaced distplot with histplot function\n",
    "  plt.show()"
   ]
  },
  {
   "cell_type": "code",
   "execution_count": null,
   "id": "d5c97f4b",
   "metadata": {},
   "outputs": [],
   "source": [
    "#Use Matplotlib to construct histograms\n",
    "for col in df_num.columns:\n",
    "    print(col)\n",
    "    plt.hist(df_num[col])\n",
    "    plt.show()"
   ]
  },
  {
   "cell_type": "markdown",
   "id": "b7ed7bb8",
   "metadata": {},
   "source": [
    "- Do the distributions for different numerical variables look like a normal distribution\n",
    "\n",
    "Almost every numerical column has data that follows a normal distribuition, or close to it.\n",
    "The two exceptions are 'Months Since Last Claim' and 'Months Since Policy Inception'"
   ]
  },
  {
   "cell_type": "markdown",
   "id": "0bd25a80",
   "metadata": {},
   "source": [
    "- For the numerical variables, check the multicollinearity between the features."
   ]
  },
  {
   "cell_type": "code",
   "execution_count": null,
   "id": "31ba0d14",
   "metadata": {},
   "outputs": [],
   "source": [
    "#Write code for both the correlation matrix and for seaborn heatmap.\n",
    "corr_matrix = df_num.corr()\n",
    "display(corr_matrix)\n",
    "\n",
    "sns.set_theme(style=\"dark\")\n",
    "\n",
    "mask = np.zeros_like(corr_matrix)\n",
    "mask[np.triu_indices_from(mask)] = True\n",
    "\n",
    "fig, ax = plt.subplots(figsize=(8, 6))\n",
    "ax = sns.heatmap(corr_matrix, mask=mask, annot=True)\n",
    "plt.show()"
   ]
  },
  {
   "cell_type": "markdown",
   "id": "b1def281",
   "metadata": {},
   "source": [
    "- Drop one of the two features that show a high correlation between them (greater than 0.9). If there is no pair of features that have a high correlation, then do not drop any features.\n",
    "\n",
    "No highly correlated features were found."
   ]
  },
  {
   "cell_type": "code",
   "execution_count": 162,
   "id": "bdb8c261",
   "metadata": {},
   "outputs": [],
   "source": [
    "#X-y split.\n",
    "x = df.drop([\"customer\", \"total_claim_amount\", 'effective_to_date'], axis=1)\n",
    "y = df[\"total_claim_amount\"]"
   ]
  },
  {
   "cell_type": "code",
   "execution_count": 163,
   "id": "d32e39a8",
   "metadata": {},
   "outputs": [],
   "source": [
    "x_num = x.select_dtypes(np.number)\n",
    "\n",
    "scaler = StandardScaler()\n",
    "scaler.fit(x_num)\n",
    "x_num_scaled = scaler.transform(x_num)\n",
    "\n",
    "x_num_scaled = pd.DataFrame(x_num_scaled, columns = x_num.columns)"
   ]
  },
  {
   "cell_type": "code",
   "execution_count": 164,
   "id": "57a32144",
   "metadata": {
    "scrolled": true
   },
   "outputs": [],
   "source": [
    "x_cat = x.select_dtypes('object')\n",
    "\n",
    "encoder = OneHotEncoder(drop='first')\n",
    "encoder.fit(x_cat)\n",
    "\n",
    "cols = []\n",
    "for i in range(len(encoder.categories_)):\n",
    "    cols += list(encoder.categories_[i])[1:]\n",
    "\n",
    "og_cols = len(x_cat.columns)\n",
    "x_cat[cols] = encoder.transform(x_cat).todense()\n",
    "x_cat = x_cat.drop(x_cat.columns[:og_cols], axis=1)"
   ]
  },
  {
   "cell_type": "code",
   "execution_count": 166,
   "id": "7d1aba0b",
   "metadata": {
    "scrolled": false
   },
   "outputs": [],
   "source": [
    "x_concat = pd.concat([x_num_scaled, x_cat], axis=1)"
   ]
  },
  {
   "cell_type": "code",
   "execution_count": 169,
   "id": "6585d1a9",
   "metadata": {},
   "outputs": [],
   "source": [
    "x_train, x_test, y_train, y_test = train_test_split(x_concat, y, test_size=0.3, random_state=42)"
   ]
  },
  {
   "cell_type": "code",
   "execution_count": 170,
   "id": "d9fc8ec9",
   "metadata": {},
   "outputs": [],
   "source": [
    "lm = LinearRegression()\n",
    "lm.fit(x_train, y_train)\n",
    "\n",
    "predictions = lm.predict(x_test)"
   ]
  },
  {
   "cell_type": "code",
   "execution_count": 172,
   "id": "ee269136",
   "metadata": {},
   "outputs": [
    {
     "name": "stdout",
     "output_type": "stream",
     "text": [
      "R2_score: 0.77\n",
      "MSE: 19182.508693113658\n",
      "RMSE: 138.50093390700894\n",
      "MAE: 94.52272816801205\n"
     ]
    }
   ],
   "source": [
    "print(\"R2_score:\", round(r2_score(y_test, predictions), 2)) \n",
    "\n",
    "mse = mean_squared_error(y_test, predictions)\n",
    "print(\"MSE:\", mse)\n",
    "\n",
    "rmse = mean_squared_error(y_test, predictions, squared=False)\n",
    "print(\"RMSE:\", rmse)\n",
    "\n",
    "mae = mean_absolute_error(y_test, predictions)\n",
    "print(\"MAE:\", mae)"
   ]
  },
  {
   "cell_type": "code",
   "execution_count": null,
   "id": "0926a676",
   "metadata": {},
   "outputs": [],
   "source": []
  }
 ],
 "metadata": {
  "kernelspec": {
   "display_name": "Python 3 (ipykernel)",
   "language": "python",
   "name": "python3"
  },
  "language_info": {
   "codemirror_mode": {
    "name": "ipython",
    "version": 3
   },
   "file_extension": ".py",
   "mimetype": "text/x-python",
   "name": "python",
   "nbconvert_exporter": "python",
   "pygments_lexer": "ipython3",
   "version": "3.10.9"
  }
 },
 "nbformat": 4,
 "nbformat_minor": 5
}
